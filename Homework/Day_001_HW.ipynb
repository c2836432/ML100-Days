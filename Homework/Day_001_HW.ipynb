{
 "cells": [
  {
   "cell_type": "code",
   "execution_count": null,
   "metadata": {},
   "outputs": [],
   "source": [
    "一.\n",
    "1. 你選的這組資料為何重要:能夠藉由資料探討出造成飛機墜機的原因，並以此找出減少事故發生的辦法。\n",
    "\n",
    "2. 資料從何而來:http://www.planecrashinfo.com/database.htm\n",
    "\n",
    "3. 蒐集而來的資料型態為何:表格 結構化資料\n",
    "\n",
    "4. 這組資料想解決的問題如何評估:從資料中去分析可能造成事故發生之原因，例如:操作員(訓練方式不當)、發生地點及航線(地形複雜)、機型(飛機設計問題)等等，並藉此去針對各項問題解決。"
   ]
  },
  {
   "cell_type": "code",
   "execution_count": null,
   "metadata": {},
   "outputs": [],
   "source": [
    "二.\n",
    "1.核心問題為何:業績不足可能是因為使用者少，而使用者少的原因可能是因為大眾不知道這項服務的存在、服務不佳或是價格太高。\n",
    "    \n",
    "2.資料從何而來:曝光度不足可以多在網路上放廣告會使更多人知道它。服務不佳及價格太高可以製作一問卷在乘客完成交易後請乘客協助填寫，或是在網路上開放表單供乘客填寫意見。若擔心資料量不夠，可以先辦一短期優惠活動吸引更多人來消費，並藉此得到更多乘客的意見並加以改善。\n",
    "    \n",
    "3.蒐集而來的資料型態為何:文字\n",
    "    \n",
    "4.你要回答的問題，其如何評估:待資料量足夠後，對其分析找出需改善的地方，再觀察業績是否有提高。"
   ]
  },
  {
   "cell_type": "code",
   "execution_count": 1,
   "metadata": {},
   "outputs": [],
   "source": [
    "import numpy as np\n",
    "import matplotlib.pyplot as plt"
   ]
  },
  {
   "cell_type": "code",
   "execution_count": null,
   "metadata": {},
   "outputs": [],
   "source": [
    "def mean_squared_error(y,yp):\n",
    "    mse=MSE=sum(abs(y - yp)**2) / len(y)\n",
    "    return mse\n",
    "def mean_absolute_error(y, yp):\n",
    "    mae = MAE = sum(abs(y - yp)) / len(y)\n",
    "    return mae"
   ]
  },
  {
   "cell_type": "code",
   "execution_count": null,
   "metadata": {},
   "outputs": [],
   "source": [
    "w = 3\n",
    "b = 0.5\n",
    "\n",
    "x_lin = np.linspace(0, 100, 101)\n",
    "\n",
    "y = (x_lin + np.random.randn(101) * 5) * w + b\n",
    "\n",
    "plt.plot(x_lin, y, 'b.', label = 'data points')\n",
    "plt.title(\"Assume we have data points\")\n",
    "plt.legend(loc = 2)\n",
    "plt.show()"
   ]
  },
  {
   "cell_type": "code",
   "execution_count": null,
   "metadata": {},
   "outputs": [],
   "source": [
    "y_hat = x_lin * w + b\n",
    "plt.plot(x_lin, y, 'b.', label = 'data')\n",
    "plt.plot(x_lin, y_hat, 'r-', label = 'prediction')\n",
    "plt.title(\"Assume we have data points (And the prediction)\")\n",
    "plt.legend(loc = 2)\n",
    "plt.show()"
   ]
  },
  {
   "cell_type": "code",
   "execution_count": null,
   "metadata": {},
   "outputs": [],
   "source": [
    "MSE = mean_squared_error(y, y_hat)\n",
    "MAE = mean_absolute_error(y, y_hat)\n",
    "print(\"The Mean squared error is %.3f\" % (MSE))\n",
    "print(\"The Mean absolute error is %.3f\" % (MAE))"
   ]
  }
 ],
 "metadata": {
  "kernelspec": {
   "display_name": "Python 3",
   "language": "python",
   "name": "python3"
  },
  "language_info": {
   "codemirror_mode": {
    "name": "ipython",
    "version": 3
   },
   "file_extension": ".py",
   "mimetype": "text/x-python",
   "name": "python",
   "nbconvert_exporter": "python",
   "pygments_lexer": "ipython3",
   "version": "3.7.0"
  }
 },
 "nbformat": 4,
 "nbformat_minor": 2
}
